{
 "cells": [
  {
   "cell_type": "code",
   "execution_count": 38,
   "metadata": {},
   "outputs": [
    {
     "name": "stdout",
     "output_type": "stream",
     "text": [
      "Requirement already satisfied: BeautifulSoup4==4.8.2 in c:\\users\\sskim\\anaconda3\\lib\\site-packages (4.8.2)\n",
      "Requirement already satisfied: soupsieve>=1.2 in c:\\users\\sskim\\anaconda3\\lib\\site-packages (from BeautifulSoup4==4.8.2) (1.9.5)\n",
      "Note: you may need to restart the kernel to use updated packages.\n"
     ]
    }
   ],
   "source": [
    "\n",
    "pip install BeautifulSoup4==4.8.2\n"
   ]
  },
  {
   "cell_type": "code",
   "execution_count": 39,
   "metadata": {},
   "outputs": [],
   "source": [
    "from bs4 import BeautifulSoup as bs\n",
    "import urllib.request\n",
    "import requests\n",
    "import os\n",
    "import pymysql\n",
    "import uuid\n",
    "from urllib.request import Request, urlopen\n",
    "from urllib.parse import urlencode, quote_plus\n",
    "import re"
   ]
  },
  {
   "cell_type": "code",
   "execution_count": 40,
   "metadata": {},
   "outputs": [],
   "source": [
    "juso_db = pymysql.connect(\n",
    "    user='ssafy', \n",
    "    passwd='ssafy', \n",
    "    host='127.0.0.1', \n",
    "    db='eurekauser', \n",
    "    charset='utf8'\n",
    ")\n",
    "\n",
    "cursor = juso_db.cursor(pymysql.cursors.DictCursor)"
   ]
  },
  {
   "cell_type": "code",
   "execution_count": 41,
   "metadata": {},
   "outputs": [],
   "source": [
    "def getanimalnum(pageNum):\n",
    "    ##다운 받을 주소\n",
    "    baseUrl = 'https://www.zooseyo.or.kr/Yu_board/freesale_ty_1.html?animal=%EA%B0%95%EC%95%84%EC%A7%80&area=&ty=1&page='   \n",
    "    url = baseUrl+str(pageNum)  \n",
    "    req=requests.get(url)\n",
    "    print(req)\n",
    "    html = req.text\n",
    "    soup = bs(html, \"html.parser\")\n",
    "    info=soup.select('a[href]')\n",
    "    checkpoint=False\n",
    "    ct=0;\n",
    "    animalnum=[]\n",
    "    for i in info:\n",
    "        tags=i.get('href')\n",
    "        if(\"sell_up.html?gort=g\"==tags):\n",
    "            ct+=1\n",
    "        num=tags.split(\"&\")[0].split(\"?\")\n",
    "        if(ct>1 and num[0]==\"view.html\"):\n",
    "            animalnum.append(num[1].split(\"=\")[1])\n",
    "            \n",
    "    return animalnum"
   ]
  },
  {
   "cell_type": "code",
   "execution_count": 42,
   "metadata": {},
   "outputs": [],
   "source": [
    "def getinfo(animalNum):\n",
    "    print(\"====개정보====\")\n",
    "    preUrl='https://www.zooseyo.or.kr/Yu_board/view.html?no='\n",
    "    postUrl='&page=1&animal=&area='\n",
    "    url=preUrl+animalNum+postUrl\n",
    "    dogsinfo=[]\n",
    "    \n",
    "    req=requests.get(url)\n",
    "    html = req.text\n",
    "    soup = bs(html, \"html.parser\")\n",
    "\n",
    "    #개번호 등록\n",
    "    dogsinfo.append(animalNum)    \n",
    "    \n",
    "    #url 등록\n",
    "    dogsinfo.append(url)\n",
    "\n",
    "    \n",
    "    ##img 경로등록\n",
    "    imginfo=soup.select('img[src]')\n",
    "    imglist=[]\n",
    "    for i in imginfo:\n",
    "        tags=i.get('src')\n",
    "        if('/dog_sale/' in tags):\n",
    "#             print(tags)\n",
    "            imglist.append('https://www.zooseyo.or.kr'+tags)\n",
    "    dogsinfo.append(imglist)\n",
    "\n",
    "    ##개정보 등록\n",
    "    infos=soup.get_text().split()\n",
    "    \n",
    "   ##날짜 인덱스 찾기\n",
    "#     print(infos)\n",
    "    for i in range(len(infos)):\n",
    "        try:\n",
    "            if\"무료분양\" in infos[i]:\n",
    "                dogsinfo.append(infos[i].split(\"(\")[1])\n",
    "                break\n",
    "        except:\n",
    "            dogsinfo.append(\"\")\n",
    "    \n",
    "    \n",
    "    \n",
    "    idx=0\n",
    "    for idx in [356,364,368]:\n",
    "        dogsinfo.append(infos[idx])\n",
    "    \n",
    "\n",
    "    \n",
    "    \n",
    "    return dogsinfo"
   ]
  },
  {
   "cell_type": "code",
   "execution_count": 43,
   "metadata": {},
   "outputs": [],
   "source": [
    "def saveimg(directory,url,name=\"\",dognum=\"\"):\n",
    "    if not name.isalnum() or \":\" in name :\n",
    "        return \n",
    "    if \"믹스\" in name or \"MIX\" in name.capitalize():\n",
    "        name = \"믹스\"\n",
    "    filename=name+\"_\"+str(dognum)\n",
    "    n=1\n",
    "    imguuid=uuid.uuid1();\n",
    "    save_path= directory+\"/\"+name\n",
    "    save_root = directory+\"/\"+name\n",
    "    if not os.path.exists(save_root):os.makedirs(save_root)\n",
    "    try:\n",
    "        with urlopen(url) as f:\n",
    "            with open(os.path.join(save_path, filename+\"_\"+str(imguuid)+'.jpg'),'wb') as h: # w - write b - binary\n",
    "                img = f.read()\n",
    "                h.write(img)\n",
    "        print(f\"폴더명 :  { name} url : {url} 파일명 : {filename}\")\n",
    "        return [filename+\"_\"+str(imguuid)+'.jpg']\n",
    "    except:\n",
    "        print(\"error\")\n",
    "    "
   ]
  },
  {
   "cell_type": "code",
   "execution_count": 44,
   "metadata": {},
   "outputs": [],
   "source": [
    "def valiatae(data):\n",
    "    return True"
   ]
  },
  {
   "cell_type": "code",
   "execution_count": 45,
   "metadata": {},
   "outputs": [],
   "source": [
    "##데이터 추가 고민중\n",
    "def saveAndInsert(dogInfos):\n",
    "    return "
   ]
  },
  {
   "cell_type": "code",
   "execution_count": null,
   "metadata": {
    "scrolled": true
   },
   "outputs": [
    {
     "name": "stdout",
     "output_type": "stream",
     "text": [
      "<Response [200]>\n",
      "====개정보====\n",
      "====개정보====\n",
      "====개정보====\n",
      "====개정보====\n",
      "====개정보====\n",
      "====개정보====\n",
      "====개정보====\n"
     ]
    }
   ],
   "source": [
    "if __name__ == \"__main__\":\n",
    "    \n",
    "    #크롤링 멈추는 날짜(등록일 기준)\n",
    "    endDate=\"2020.03.15\"  \n",
    "    \n",
    "    \n",
    "    dogInfos=[]\n",
    "    ##넘겨볼 페이지 갯수\n",
    "    for pageNum in range(1):\n",
    "        animalNums=getanimalnum(pageNum)\n",
    "        for num in animalNums:\n",
    "            info=getinfo(num)\n",
    "            #print(\"pageNum : \",pageNum,info)\n",
    "            if(info[len(info)-4] in endDate):\n",
    "                break\n",
    "            dogInfos.append(info)\n",
    "    print(\"####\"*20)\n",
    "    print(\"####\"*20)\n",
    "    print(f'Data Cnt: {len(dogInfos)}')\n",
    "    print(\"####\"*20)\n",
    "    print(\"####\"*20)\n",
    "    \n",
    "    \n",
    "    \n",
    "    \n",
    "        \n",
    "    "
   ]
  },
  {
   "cell_type": "code",
   "execution_count": null,
   "metadata": {},
   "outputs": [],
   "source": [
    "for info in dogInfos:\n",
    "    if(info[2] == []) :\n",
    "        continue\n",
    "    for img in info[2][1:]:\n",
    "        ##요기에 원하는 경로\n",
    "        saveimg(\"C:/Users/sskim/Downloads/Dogs\",img,info[len(info)-3],info[0])\n",
    "    \n",
    "            "
   ]
  }
 ],
 "metadata": {
  "kernelspec": {
   "display_name": "Python 3",
   "language": "python",
   "name": "python3"
  },
  "language_info": {
   "codemirror_mode": {
    "name": "ipython",
    "version": 3
   },
   "file_extension": ".py",
   "mimetype": "text/x-python",
   "name": "python",
   "nbconvert_exporter": "python",
   "pygments_lexer": "ipython3",
   "version": "3.7.6"
  }
 },
 "nbformat": 4,
 "nbformat_minor": 4
}
